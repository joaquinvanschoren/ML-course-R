{
 "cells": [
  {
   "cell_type": "markdown",
   "metadata": {
    "collapsed": true,
    "slideshow": {
     "slide_type": "slide"
    }
   },
   "source": [
    "### Notebook Lectures on Machine Learning\n",
    "<hr>\n",
    "- **Programming Setup** [HTML](http://openml.github.io/course/Programming%20Setup.slides.html) - [Notebook](https://github.com/openml/course/blob/gh-pages/Programming%20Setup.ipynb) - [PDF](https://github.com/openml/course/blob/gh-pages/Programming%20Setup.pdf)\n",
    "- **Decision Trees** (R) [HTML](http://openml.github.io/course/Decision%20Trees.slides.html) - [Notebook](https://github.com/openml/course/blob/gh-pages/Decision%20Trees.ipynb) - [PDF](https://github.com/openml/course/blob/gh-pages/Decision%20Trees.pdf)\n",
    "- ...\n",
    "\n",
    "<br>\n",
    "<br>\n",
    "<hr>\n",
    "- HTML: Navigate with Spacebar, arrows, ESC\n",
    "- Notebook, PDF: Download with right click -> Safe link as..."
   ]
  }
 ],
 "metadata": {
  "celltoolbar": "Slideshow",
  "kernelspec": {
   "display_name": "Python 3",
   "language": "python",
   "name": "python3"
  },
  "language_info": {
   "codemirror_mode": {
    "name": "ipython",
    "version": 3
   },
   "file_extension": ".py",
   "mimetype": "text/x-python",
   "name": "python",
   "nbconvert_exporter": "python",
   "pygments_lexer": "ipython3",
   "version": "3.5.1"
  }
 },
 "nbformat": 4,
 "nbformat_minor": 0
}
