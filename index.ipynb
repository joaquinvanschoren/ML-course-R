{
 "cells": [
  {
   "cell_type": "markdown",
   "metadata": {
    "collapsed": true,
    "slideshow": {
     "slide_type": "slide"
    }
   },
   "source": [
    "### Notebook Lectures on Machine Learning\n",
    "<hr>\n",
    "- **Decision Trees** (R) [HTML](http://openml.github.io/course/DecisionTrees.slides.html) - [Notebook](https://github.com/openml/course/blob/gh-pages/DecisionTrees.ipynb) - [PDF](https://github.com/openml/course/blob/gh-pages/DecisionTrees.pdf)\n",
    "- ...\n",
    "\n",
    "<br>\n",
    "<br>\n",
    "<hr>\n",
    "- Download with right click -> Safe link as...\n",
    "- To interact with the material, read on... (press spacebar)"
   ]
  },
  {
   "cell_type": "markdown",
   "metadata": {
    "slideshow": {
     "slide_type": "slide"
    }
   },
   "source": [
    "\n",
    "### Jupyter notebooks installation\n",
    "<hr>\n",
    "To interact with the material, download and open the notebook (.ipynb) files with your local Jupyter installation.\n",
    "\n",
    "#### Install Anaconda (Python+Jupyter+more)\n",
    "- [Install Anaconda](https://www.continuum.io/downloads), choose the version for your operating system.\n",
    "- Note: This will install a separate Python environment\n",
    "    - Anaconda puts a line in your .bash_profile to use this version by default\n",
    " \n",
    "You should now be able to start the notebook server like this:\n",
    "```\n",
    "jupyter notebook\n",
    "```"
   ]
  },
  {
   "cell_type": "markdown",
   "metadata": {
    "slideshow": {
     "slide_type": "subslide"
    }
   },
   "source": [
    "#### Install R kernel\n",
    "- To setup the anaconda R environment for the notebooks, execute the following (requires some disk space):\n",
    "```\n",
    "conda install -c r r\n",
    "conda install -c r r-essentials\n",
    "```\n",
    "- To use your (previously installed) version of R, install the IR kernel locally:\n",
    "```\n",
    "install.packages('RCurl') # If necessary\n",
    "library(devtools) # Do install.packages('devtools') if that doesn't work\n",
    "install_github('IRkernel/repr')\n",
    "install_github('IRkernel/IRdisplay')  \n",
    "install_github('IRkernel/IRkernel')\n",
    "IRkernel::installspec()\n",
    "```\n",
    "- OSX users: there seems to be a transient bug in the anaconda version of R which makes your R notebooks crash. If you experience issues, delete anaconda, install it again, and then [follow this guide](http://www.michaelpacer.com/maths/r-kernel-for-ipython-notebook) to install the IR kernel."
   ]
  },
  {
   "cell_type": "markdown",
   "metadata": {
    "slideshow": {
     "slide_type": "subslide"
    }
   },
   "source": [
    "#### Extensions\n",
    "To generate slideshows:\n",
    "- Clone the RISE github repo and install it\n",
    "```\n",
    "git clone https://github.com/damianavila/RISE.git\n",
    "python RISE/setup.py install\n",
    "```\n",
    "\n",
    "To export PDFs:\n",
    "- [Install pandoc](http://pandoc.org/installing.html)"
   ]
  }
 ],
 "metadata": {
  "celltoolbar": "Slideshow",
  "kernelspec": {
   "display_name": "Python 3",
   "language": "python",
   "name": "python3"
  },
  "language_info": {
   "codemirror_mode": {
    "name": "ipython",
    "version": 3
   },
   "file_extension": ".py",
   "mimetype": "text/x-python",
   "name": "python",
   "nbconvert_exporter": "python",
   "pygments_lexer": "ipython3",
   "version": "3.5.1"
  }
 },
 "nbformat": 4,
 "nbformat_minor": 0
}
