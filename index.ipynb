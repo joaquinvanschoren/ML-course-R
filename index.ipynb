{
 "cells": [
  {
   "cell_type": "markdown",
   "metadata": {
    "collapsed": true,
    "slideshow": {
     "slide_type": "slide"
    }
   },
   "source": [
    "### Notebook Lectures on Machine Learning\n",
    "<hr>\n",
    "- **Programming Setup** [HTML](http://openml.github.io/course/ProgrammingSetup.slides.html) - [Notebook](https://github.com/openml/course/raw/gh-pages/ProgrammingSetup.ipynb) - [PDF](https://github.com/openml/course/raw/gh-pages/ProgrammingSetup.pdf)\n",
    "- **Tutorial SKlearn** (Python) [HTML](http://openml.github.io/course/TutorialSKlearn.slides.html) - [Notebook](https://github.com/openml/course/raw/gh-pages/TutorialSKlearn.ipynb) - [PDF](https://github.com/openml/course/raw/gh-pages/TutorialSKlearn.pdf)\n",
    "- **Decision Trees** (R) [HTML](http://openml.github.io/course/DecisionTrees.slides.html) - [Notebook](https://github.com/openml/course/raw/gh-pages/DecisionTrees.ipynb) - [PDF](https://github.com/openml/course/raw/gh-pages/DecisionTrees.pdf)\n",
    "- ...\n",
    "\n",
    "<br>\n",
    "<br>\n",
    "<hr>\n",
    "- HTML: Open in new tab. Navigate with Spacebar, arrows, ESC\n",
    "- Notebook, PDF: Download with right click -> Safe link as..."
   ]
  },
  {
   "cell_type": "code",
   "execution_count": null,
   "metadata": {
    "collapsed": true
   },
   "outputs": [],
   "source": []
  }
 ],
 "metadata": {
  "celltoolbar": "Slideshow",
  "kernelspec": {
   "display_name": "Python 3",
   "language": "python",
   "name": "python3"
  },
  "language_info": {
   "codemirror_mode": {
    "name": "ipython",
    "version": 3
   },
   "file_extension": ".py",
   "mimetype": "text/x-python",
   "name": "python",
   "nbconvert_exporter": "python",
   "pygments_lexer": "ipython3",
   "version": "3.5.1"
  }
 },
 "nbformat": 4,
 "nbformat_minor": 0
}
