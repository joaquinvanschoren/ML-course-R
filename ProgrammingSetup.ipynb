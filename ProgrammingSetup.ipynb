{
 "cells": [
  {
   "cell_type": "markdown",
   "metadata": {
    "slideshow": {
     "slide_type": "slide"
    }
   },
   "source": [
    "# Using R and Python\n",
    "R and Python are both great ways to quickly learn how to do machine learning in practice. They can be learned rather quickly and enable you to do almost anything you want. Mastering them is increasingly crucial for a career in data science."
   ]
  },
  {
   "cell_type": "markdown",
   "metadata": {
    "slideshow": {
     "slide_type": "slide"
    }
   },
   "source": [
    "## Jupyter Notebooks\n",
    "\n",
    "- We will use Jupyter Notebooks in some of the course lectures\n",
    "- *Literate programming*: Explanations + executable code examples\n",
    "- Contain the full code of what we show in class, so you can try it at home and do your own experiments\n",
    "\n",
    "These lectures are made available in 3 formats:\n",
    "\n",
    "- HTML: for online viewing (navigation: spacebar, arrows, ESC)\n",
    "- Notebook: download the .ipynb files and open them with Jupyter\n",
    "- PDF: for offline reference"
   ]
  },
  {
   "cell_type": "markdown",
   "metadata": {
    "slideshow": {
     "slide_type": "slide"
    }
   },
   "source": [
    "## Learning R\n",
    "There exist many ways to learn R quickly:\n",
    "\n",
    "- DataCamp (beginner to advanced): https://www.datacamp.com\n",
    "- Codeschool (beginner, step by step): http://tryr.codeschool.com\n",
    "- Data Carpentry (intermediate): http://www.datacarpentry.org/R-ecology\n",
    "- R Studio guide (installation, environments): https://www.rstudio.com/resources/training/online-learning/#R"
   ]
  },
  {
   "cell_type": "markdown",
   "metadata": {
    "slideshow": {
     "slide_type": "slide"
    }
   },
   "source": [
    "## Learning Python\n",
    "Likewise, there are many ways to quickly learn Python:\n",
    "\n",
    "- DataCamp (beginner to advanced): https://www.datacamp.com\n",
    "- CodeCademy (beginner, step by step): https://www.codecademy.com/learn/python\n",
    "- Google's Python Class (intermediate): https://developers.google.com/edu/python\n",
    "- Data Carpentry (intermediate): http://www.datacarpentry.org/python-ecology\n",
    "- Many more..."
   ]
  },
  {
   "cell_type": "markdown",
   "metadata": {
    "slideshow": {
     "slide_type": "slide"
    }
   },
   "source": [
    "## Setting up Python and R environments\n",
    "<hr>\n",
    "### Install Anaconda (Python+Jupyter+more)\n",
    "\n",
    "- [Install Anaconda](https://www.continuum.io/downloads), choose your OS and the latest Python 3\n",
    "- Note: This will install a separate Python environment\n",
    "    - Anaconda puts a line in your .bash_profile to use this version by default\n",
    "\n",
    "You should now be able to:\n",
    "\n",
    "- Start a Python shell by typing `python` in your command shell\n",
    "- Start a Jupyter notebook by typing `jupyter notebook`"
   ]
  },
  {
   "cell_type": "markdown",
   "metadata": {
    "slideshow": {
     "slide_type": "subslide"
    }
   },
   "source": [
    "### Installing Python extensions\n",
    "Whenever you need a package that is not already installed:\n",
    "\n",
    "- Try conda: `conda install <package>`\n",
    "- Try pip: `pip install <package>`\n",
    "- Necessary: `conda install numpy scipy scikit-learn jupyter matplotlib`\n",
    "\n",
    "Some packages need to be installed from GitHub source code:\n",
    "\n",
    "- Create a folder (e.g. folder 'github' inside the anaconda dir)\n",
    "- Then clone the package and install it:\n",
    "```\n",
    "git clone <git URL>\n",
    "cd <new directory>\n",
    "python setup.py install\n",
    "```\n",
    "\n",
    "- OpenML (for ML resources): https://github.com/openml/python.git\n",
    "- RISE (for slideshows): https://github.com/damianavila/RISE.git"
   ]
  },
  {
   "cell_type": "markdown",
   "metadata": {
    "slideshow": {
     "slide_type": "subslide"
    }
   },
   "source": [
    "### Jupyter Extensions\n",
    "To export PDFs:\n",
    "\n",
    "- [Install pandoc](http://pandoc.org/installing.html)"
   ]
  },
  {
   "cell_type": "markdown",
   "metadata": {
    "slideshow": {
     "slide_type": "subslide"
    }
   },
   "source": [
    "### Installing R\n",
    "\n",
    "- You can install the Anaconda-supported R (not always the latest version), which includes the Jupyter R kernel:\n",
    "```\n",
    "conda install -c r r\n",
    "conda install -c r r-essentials\n",
    "```\n",
    "- OSX users: there seems to be a transient bug in Anaconda's Jupyter R kernel. If you experience issues, delete and reinstall anaconda (without R) and install R yourself.\n",
    "- You can also [install R yourself](https://cran.rstudio.com/). If so, also install the Jupyter R kernel:\n",
    "```\n",
    "install.packages('devtools') # If necessary\n",
    "library(devtools)\n",
    "install_github('IRkernel/repr')\n",
    "install_github('IRkernel/IRdisplay')  \n",
    "install_github('IRkernel/IRkernel')\n",
    "IRkernel::installspec()\n",
    "```\n",
    "- You can now start the R shell by typing `R` on the command line (or use RStudio)"
   ]
  },
  {
   "cell_type": "markdown",
   "metadata": {
    "slideshow": {
     "slide_type": "subslide"
    }
   },
   "source": [
    "### Installing R extensions\n",
    "Whenever you need a package that is not already installed:\n",
    "\n",
    "- start your R shell in admin mode, e.g. `sudo R`\n",
    "- `install.packages(<package name>)`. Case sensitive!\n",
    "\n",
    "Some packages need to be installed from GitHub source code:\n",
    "```\n",
    "install.packages('devtools') # If necessary\n",
    "library(devtools)\n",
    "install_github('<package name>')\n",
    "```\n",
    "E.g. for OpenML:\n",
    "```\n",
    "install_github('openml/r')\n",
    "```"
   ]
  }
 ],
 "metadata": {
  "celltoolbar": "Slideshow",
  "kernelspec": {
   "display_name": "Python 3",
   "language": "python",
   "name": "python3"
  },
  "language_info": {
   "codemirror_mode": {
    "name": "ipython",
    "version": 3
   },
   "file_extension": ".py",
   "mimetype": "text/x-python",
   "name": "python",
   "nbconvert_exporter": "python",
   "pygments_lexer": "ipython3",
   "version": "3.5.1"
  }
 },
 "nbformat": 4,
 "nbformat_minor": 0
}
